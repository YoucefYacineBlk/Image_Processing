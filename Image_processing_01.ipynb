{
 "cells": [
  {
   "cell_type": "code",
   "execution_count": null,
   "id": "f439d078",
   "metadata": {},
   "outputs": [],
   "source": [
    "import numpy as np\n",
    "import matplotlib as plt\n",
    "from pylab import *\n",
    "import scipy\n",
    "from skimage import util\n",
    "from scipy import signal\n",
    "from PIL import Image,ImageFilter\n",
    "from PIL import ImageOps\n",
    "import random \n",
    "\n",
    "\n",
    "Image.__version__"
   ]
  },
  {
   "cell_type": "code",
   "execution_count": null,
   "id": "03c0548a",
   "metadata": {},
   "outputs": [],
   "source": [
    "def afficher_img_cv2(img):  # return (display) img coming from cv2 (np.arrayA)\n",
    "    return im.fromarray(cv2.cvtColor(img,cv2.COLOR_BGR2RGB))\n",
    "    "
   ]
  },
  {
   "cell_type": "markdown",
   "id": "e28bd05d",
   "metadata": {},
   "source": [
    "## Load image \n"
   ]
  },
  {
   "cell_type": "code",
   "execution_count": null,
   "id": "06e28e07",
   "metadata": {
    "scrolled": true
   },
   "outputs": [],
   "source": [
    "im = Image.open('jpeg.jpeg')\n",
    "\n",
    "im_data = np.asarray(im)\n",
    "\n",
    "im"
   ]
  },
  {
   "cell_type": "code",
   "execution_count": null,
   "id": "4dc3300a",
   "metadata": {},
   "outputs": [],
   "source": [
    "print(im.size)"
   ]
  },
  {
   "cell_type": "code",
   "execution_count": null,
   "id": "d6dc9191",
   "metadata": {},
   "outputs": [],
   "source": [
    "# im.register_extension(im,\"PNG\")\n",
    "im.save(\"Un_super_paysage.PNG\")\n",
    "im.save(\"Un_super_paysage.TIFF\")"
   ]
  },
  {
   "cell_type": "code",
   "execution_count": null,
   "id": "a3e0acb2",
   "metadata": {},
   "outputs": [],
   "source": [
    "#image sous format PNG \n",
    "im_png=Image.open('Un_super_paysage.PNG')\n",
    "im_png_size=im_png.size\n",
    "im_png_format=im_png.format\n",
    "print(\"la format de l\\'image est : \"+im_png_format)\n",
    "print(\"les dimensions de l\\'image sont : \"+str(im_png_size)) "
   ]
  },
  {
   "cell_type": "code",
   "execution_count": null,
   "id": "afb962e2",
   "metadata": {},
   "outputs": [],
   "source": [
    "#image sous format TIFF \n",
    "im_tif=Image.open('Un_super_paysage.TIFF')\n",
    "im_tif_size=im_tif.size\n",
    "im_tif_format=im_tif.format\n",
    "print(\"la format de l\\'image est : \"+im_tif_format)\n",
    "print(\"les dimensions de l\\'image sont : \"+str(im_tif_size))"
   ]
  },
  {
   "cell_type": "code",
   "execution_count": null,
   "id": "74c3aeb3",
   "metadata": {},
   "outputs": [],
   "source": [
    "im_data_rouge=im_data.copy()\n",
    "im_data_rouge[:,:,[1,2]]=0*np.ones(im_data_rouge[:,:,[1,2]].shape)\n",
    "image_rouge=Image.fromarray(im_data_rouge)\n",
    "image_rouge\n"
   ]
  },
  {
   "cell_type": "code",
   "execution_count": null,
   "id": "5f864b93",
   "metadata": {
    "scrolled": true
   },
   "outputs": [],
   "source": [
    "im_data_vert=im_data.copy()\n",
    "im_data_vert[:,:,[0,2]]=0*np.ones(im_data_vert[:,:,[0,2]].shape)\n",
    "image_vert=Image.fromarray(im_data_vert)\n",
    "image_vert\n"
   ]
  },
  {
   "cell_type": "code",
   "execution_count": null,
   "id": "af962d92",
   "metadata": {},
   "outputs": [],
   "source": [
    "im_data_bleu=im_data.copy()\n",
    "im_data_bleu[:,:,[0,1]]=0*np.ones(im_data_bleu[:,:,[0,1]].shape)\n",
    "image_bleu=Image.fromarray(im_data_bleu)\n",
    "image_bleu\n"
   ]
  },
  {
   "cell_type": "code",
   "execution_count": null,
   "id": "dd560b8b",
   "metadata": {},
   "outputs": [],
   "source": [
    "im_data_reconstruit=im_data_rouge\n",
    "im_data_reconstruit[:,:,1]=im_data_vert[:,:,1]\n",
    "im_data_reconstruit[:,:,2]=im_data_bleu[:,:,2]\n",
    "image_reconstruite=Image.fromarray(im_data_reconstruit)\n",
    "image_reconstruite"
   ]
  },
  {
   "cell_type": "code",
   "execution_count": null,
   "id": "b47ed1b5",
   "metadata": {},
   "outputs": [],
   "source": [
    "im_gray_data=im_data[:,:,0]*0.2989 + im_data[:,:,1]*0.587 + im_data[:,:,2]*0.1140\n",
    "im_gray_data=im_gray_data.astype(int)\n",
    "\n",
    "image_grise=Image.fromarray(im_gray_data).convert(\"L\")\n",
    "image_grise"
   ]
  },
  {
   "cell_type": "code",
   "execution_count": null,
   "id": "cb0f0159",
   "metadata": {},
   "outputs": [],
   "source": [
    "im_gray_data=im_data[:,:,0]*0.2989 + im_data[:,:,1]*0.587 + im_data[:,:,2]*0.1140\n",
    "im_gray_data=im_gray_data>112\n",
    "im_gray_data=im_gray_data.astype(int)\n",
    "im_gray_data*=255\n",
    "image_grise=Image.fromarray(im_gray_data).convert(\"L\")\n",
    "image_grise"
   ]
  },
  {
   "cell_type": "code",
   "execution_count": null,
   "id": "88784972",
   "metadata": {},
   "outputs": [],
   "source": [
    "gray_image=ImageOps.grayscale(im)\n",
    "gray_image"
   ]
  },
  {
   "cell_type": "code",
   "execution_count": null,
   "id": "993fd161",
   "metadata": {},
   "outputs": [],
   "source": [
    "matrix=255*np.ones(im_data.shape)\n",
    "matrix=matrix.astype(int)\n",
    "im_data_inv=matrix-im_data\n",
    "im_data_inv=im_data_inv.astype(np.uint8)\n",
    "image_inv=Image.fromarray(im_data_inv)\n",
    "image_inv"
   ]
  },
  {
   "cell_type": "code",
   "execution_count": null,
   "id": "60bb0522",
   "metadata": {},
   "outputs": [],
   "source": [
    "inv_image=ImageOps.invert(im)\n",
    "inv_image"
   ]
  },
  {
   "cell_type": "code",
   "execution_count": null,
   "id": "cd0a4158",
   "metadata": {},
   "outputs": [],
   "source": [
    "(largeur, hauteur)= im.size\n",
    "im_bruit_PetS_data=im_data.copy()\n",
    "for i in range(800000) : \n",
    "    x=randint(0,largeur)\n",
    "    y=randint(0,hauteur)\n",
    "    couleur=randint(0,2)\n",
    "    im_bruit_PetS_data[y,x,:]=couleur\n",
    "\n",
    "im_bruit_PetS=Image.fromarray(im_bruit_PetS_data)\n",
    "im_bruit_PetS\n",
    "\n",
    "    \n",
    "\n",
    "    \n",
    "    "
   ]
  },
  {
   "cell_type": "code",
   "execution_count": null,
   "id": "ebd52161",
   "metadata": {
    "scrolled": true
   },
   "outputs": [],
   "source": [
    "im_bruit_filtre=im_bruit_PetS.filter(ImageFilter.MedianFilter(3))\n",
    "im_bruit_filtre2=im_bruit_filtre.filter(ImageFilter.MedianFilter(3))\n",
    "im_bruit_filtre"
   ]
  },
  {
   "cell_type": "code",
   "execution_count": null,
   "id": "9a148b73",
   "metadata": {},
   "outputs": [],
   "source": [
    "im_bruit_filtre2"
   ]
  },
  {
   "cell_type": "code",
   "execution_count": null,
   "id": "6ec65d3e",
   "metadata": {},
   "outputs": [],
   "source": [
    "(largeur, hauteur)= im.size\n",
    "im_data=np.asarray(im)\n",
    "im_bruit_Gauss_data=im_data.copy()\n",
    "\n",
    "im_bruit_Gauss_data[:,:,0]=random.gauss(im_bruit_Gauss_data[:,:,0],5)\n",
    "im_bruit_Gauss_data[:,:,1]=random.gauss(im_bruit_Gauss_data[:,:,1],5)\n",
    "im_bruit_Gauss_data[:,:,2]=random.gauss(im_bruit_Gauss_data[:,:,2],5)\n",
    "\n",
    "im_bruit_Gauss=Image.fromarray(im_bruit_Gauss_data)\n",
    "im_bruit_Gauss\n"
   ]
  },
  {
   "cell_type": "code",
   "execution_count": null,
   "id": "2b33be44",
   "metadata": {},
   "outputs": [],
   "source": [
    "im_bruit_gauss_rest=im_bruit_Gauss.filter(ImageFilter.GaussianBlur(radius=3))\n",
    "im_bruit_gauss_rest"
   ]
  }
 ],
 "metadata": {
  "kernelspec": {
   "display_name": "Python 3 (ipykernel)",
   "language": "python",
   "name": "python3"
  },
  "language_info": {
   "codemirror_mode": {
    "name": "ipython",
    "version": 3
   },
   "file_extension": ".py",
   "mimetype": "text/x-python",
   "name": "python",
   "nbconvert_exporter": "python",
   "pygments_lexer": "ipython3",
   "version": "3.10.6"
  }
 },
 "nbformat": 4,
 "nbformat_minor": 5
}
